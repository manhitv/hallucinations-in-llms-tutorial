{
 "cells": [
  {
   "cell_type": "markdown",
   "metadata": {},
   "source": [
    "# **<center>Notebook: Memory for Novelty Based Exploration</center>**\n"
   ]
  },
  {
   "cell_type": "markdown",
   "metadata": {},
   "source": [
    "**Reference**\n",
    "1. Savinov, N., Raichuk, A., Marinier, R., Vincent, D., Pollefeys, M., Lillicrap, T., & Gelly, S. (2018). Episodic curiosity through reachability. arXiv preprint arXiv:1810.02274.\n",
    "2. Tang, H., Houthooft, R., Foote, D., Stooke, A., Xi Chen, O., Duan, Y., ... & Abbeel, P. (2017). # exploration: A study of count-based exploration for deep reinforcement learning. Advances in neural information processing systems, 30.\n",
    "3. Raffin, A., Hill, A., Gleave, A., Kanervisto, A., Ernestus, M., & Dormann, N. (2021). Stable-baselines3: Reliable reinforcement learning implementations. Journal of Machine Learning Research, 22(268), 1-8.\n",
    "4. Chevalier-Boisvert, M., Dai, B., Towers, M., Perez-Vicente, R., Willems, L., Lahlou, S., ... & Terry, J. (2024). Minigrid & miniworld: Modular & customizable reinforcement learning environments for goal-oriented tasks. Advances in Neural Information Processing Systems, 36."
   ]
  },
  {
   "cell_type": "markdown",
   "metadata": {},
   "source": [
    "## **1. Setting up the libraries** "
   ]
  },
  {
   "cell_type": "code",
   "execution_count": 26,
   "metadata": {},
   "outputs": [],
   "source": [
    "# Run these commands from the terminal to install related libraries and set up the working environment\n",
    "# pip install gymnasium # Install the gymnasium library with RL environments\n",
    "# pip install minigrid # Install the Minigrid library contains simple and easily configurable grid world environments for RL. \n",
    "# pip install stable-baselines3 # Install the Stable Baselines 3 library contains RL Algorithm"
   ]
  },
  {
   "cell_type": "code",
   "execution_count": 2,
   "metadata": {},
   "outputs": [],
   "source": [
    "# Import the libraries and check if they are working\n",
    "import random, copy\n",
    "from collections import deque\n",
    "\n",
    "import torch\n",
    "import gymnasium as gym\n",
    "import minigrid\n",
    "import matplotlib.pyplot as plt\n",
    "import numpy as np\n",
    "import pandas as pd\n",
    "\n",
    "from stable_baselines3 import PPO\n",
    "from gymnasium.core import Wrapper\n",
    "from minigrid.wrappers import ImgObsWrapper # Convert the observation space into an image\n",
    "import torch.nn as nn\n",
    "import torch.nn.functional as F\n",
    "import torch.optim as optim\n",
    "\n",
    "from utils import get_policy_kwargs\n",
    "from callbacks.Eval_Callback import Eval_Callback\n",
    "\n",
    "# Set seed.\n",
    "np.random.seed(1)\n",
    "device = torch.device(\"cuda\" if torch.cuda.is_available() else \"cpu\")\n"
   ]
  },
  {
   "cell_type": "markdown",
   "metadata": {},
   "source": [
    "## **2. Introducing the Minigrid Environment**\n"
   ]
  },
  {
   "cell_type": "markdown",
   "metadata": {},
   "source": [
    "- We will start with the introduction of the Minigrid environments.\n",
    "- In this tutorial, we will use the empty 16x16 environment, wherein the task of the agent is to reach the goal (the green square). However, there are other environments with lower and higher levels of difficulty available in the Minigrid package  (https://minigrid.farama.org/). 🎮 They also allow customization to suit your needs. 😊"
   ]
  },
  {
   "cell_type": "code",
   "execution_count": 28,
   "metadata": {},
   "outputs": [
    {
     "data": {
      "image/png": "[encoded data removed]",
      "text/plain": [
       "<Figure size 640x480 with 1 Axes>"
      ]
     },
     "metadata": {},
     "output_type": "display_data"
    }
   ],
   "source": [
    "env = gym.make(\"MiniGrid-Empty-16x16-v0\", render_mode=\"rgb_array\")\n",
    "env = ImgObsWrapper(env)\n",
    "\n",
    "ob, _ = env.reset()\n",
    "img = env.render()\n",
    "plt.imshow(img);"
   ]
  },
  {
   "cell_type": "markdown",
   "metadata": {},
   "source": [
    "### 2.1 Minigrid Environment Information\n"
   ]
  },
  {
   "cell_type": "markdown",
   "metadata": {},
   "source": [
    "- In Minigrid environments, there are typically 7 actions available.\n",
    "- However, in this specific environment, we will only utilize the first 3 moving actions. 🚶‍♂️🚶‍♀️🚶"
   ]
  },
  {
   "cell_type": "markdown",
   "metadata": {},
   "source": [
    "<span style=\" font-weight:bold;\">Action Space</span>\n",
    "| Num   | Name | Action |\n",
    "|--------|-----|--------|\n",
    "| 0  | left  | Turn left |\n",
    "| 1    | right  | Turn right  |\n",
    "| 2| forward | Move forward |\n",
    "| 3  | pickup  | Unused|\n",
    "| 4    | drop  | Unused  |\n",
    "| 5| toggle  | Unused|\n",
    "| 6| done  | Unused   |\n",
    "\n",
    "\n",
    "\n"
   ]
  },
  {
   "cell_type": "code",
   "execution_count": 29,
   "metadata": {},
   "outputs": [
    {
     "name": "stdout",
     "output_type": "stream",
     "text": [
      "Discrete(7)\n"
     ]
    }
   ],
   "source": [
    "print(env.action_space) # The action space includes 7 actions as stated above, however, the last action is not used."
   ]
  },
  {
   "cell_type": "markdown",
   "metadata": {},
   "source": [
    "<span style=\"font-weight:bold;\">Observation Space</span>\n",
    "\n",
    "- Here we use the observation space, which is an image of shape (7,7,3).\n",
    "\n",
    "\n"
   ]
  },
  {
   "cell_type": "code",
   "execution_count": 30,
   "metadata": {},
   "outputs": [
    {
     "name": "stdout",
     "output_type": "stream",
     "text": [
      "Box(0, 255, (7, 7, 3), uint8)\n"
     ]
    }
   ],
   "source": [
    "print(env.observation_space)"
   ]
  },
  {
   "cell_type": "markdown",
   "metadata": {},
   "source": [
    "<span style=\"font-weight:bold;\">Reward</span>\n",
    "\n",
    "- The agent will be given a reward of $1 - 0.9 * (step\\_count / max\\_steps)$ is given for success, and $0$ for failure."
   ]
  },
  {
   "cell_type": "markdown",
   "metadata": {},
   "source": [
    "## **3. Simple PPO**"
   ]
  },
  {
   "cell_type": "markdown",
   "metadata": {},
   "source": [
    "- In this section, we will test a simple PPO algorithm on this Minigrid environment. 🕹️\n",
    "- Here, we use the implementation of PPO from Stable Baselines 3. 📊\n",
    "- The result of this algorithm will be presented at the end of the notebook. 📝"
   ]
  },
  {
   "cell_type": "markdown",
   "metadata": {},
   "source": [
    "### **3.1 Train PPO**"
   ]
  },
  {
   "cell_type": "code",
   "execution_count": 31,
   "metadata": {},
   "outputs": [],
   "source": [
    "env = gym.make(\"MiniGrid-Empty-16x16-v0\", render_mode=\"rgb_array\")\n",
    "env = ImgObsWrapper(env)"
   ]
  },
  {
   "cell_type": "code",
   "execution_count": null,
   "metadata": {},
   "outputs": [],
   "source": [
    "simple_ppo_reward = {}\n",
    "\n",
    "for run in range(5):\n",
    "    eval_callback = Eval_Callback(eval_env=env, eval_freq=10000, n_eval_episodes=10)\n",
    "\n",
    "    policy = PPO(policy=\"CnnPolicy\", env=env, verbose=1, policy_kwargs=get_policy_kwargs(),  ent_coef=0.005)\n",
    "\n",
    "    policy.learn(total_timesteps=100000, callback=eval_callback)\n",
    "\n",
    "    simple_ppo_reward[f\"run_{run}\"] = eval_callback.record_reward"
   ]
  },
  {
   "cell_type": "code",
   "execution_count": 33,
   "metadata": {},
   "outputs": [],
   "source": [
    "# policy.save(\"pretrained_models/simple_ppo\")"
   ]
  },
  {
   "cell_type": "markdown",
   "metadata": {},
   "source": [
    "### **3.2 Test PPO**"
   ]
  },
  {
   "cell_type": "markdown",
   "metadata": {},
   "source": [
    "- You can uncomment this section to test our pre-trained model."
   ]
  },
  {
   "cell_type": "code",
   "execution_count": 34,
   "metadata": {},
   "outputs": [],
   "source": [
    "# policy = PPO.load(\"pretrained_models/simple_ppo\")"
   ]
  },
  {
   "cell_type": "code",
   "execution_count": 35,
   "metadata": {},
   "outputs": [
    {
     "name": "stdout",
     "output_type": "stream",
     "text": [
      "The average reward for 50 runs are: 0.0\n"
     ]
    }
   ],
   "source": [
    "# # Reset the environment to its initial state\n",
    "# obs, _ = env.reset()\n",
    "# count = 1\n",
    "# reward_list = []\n",
    "# # Perform some actions in the environment\n",
    "# while count <= 50:\n",
    "#     action, _ = policy.predict(obs) # Sample an action using the trained policy\n",
    "    \n",
    "#     # print(observation, action)\n",
    "\n",
    "#     obs, reward, done, truncated, info = env.step(action)  # Take a step in the environment\n",
    "\n",
    "\n",
    "#     # If the episode is finish either done or truncated, record reward & reset the environment\n",
    "#     if done or truncated:\n",
    "#         reward_list.append(reward)\n",
    "#         observation = env.reset()\n",
    "#         count += 1\n",
    "\n",
    "# print(f\"The average reward for 50 runs are: {np.mean(reward_list)}\")\n",
    "# env.close()  # Close the environment"
   ]
  },
  {
   "cell_type": "markdown",
   "metadata": {},
   "source": [
    "## **4. Count-Based Observation Bonus**"
   ]
  },
  {
   "cell_type": "markdown",
   "metadata": {},
   "source": [
    "- In this section, we will present our implementation of the count-based bonus intrinsic reward. \n",
    "- Here, we implement it as a wrapper to the Minigrid environment -> modifying the .step() function, so as to include the bonus reward. 🔄\n",
    "- The result of this algorithm will be presented at the end of the notebook. 📊"
   ]
  },
  {
   "cell_type": "markdown",
   "metadata": {},
   "source": [
    "### **4.1 Key Points**"
   ]
  },
  {
   "cell_type": "markdown",
   "metadata": {},
   "source": [
    "- The idea behind count-based observation is to use a memory to record the number the number of time a state has been visited. Subsequently, higher rewards are given to states or states-actions that are less visited. \n",
    "- The intrinsic reward, in counting method based on states-actions, is denoted as $r^{+}(s,a)$ is calculated using the formula: $r^{+}(s,a)=\\beta/\\sqrt{(n(\\phi(s,a)))}$ where $\\beta$ is a hyperparameter and $\\phi$ is a hashing function.\n",
    "- A simple and efficient choice for $\\phi$ is a SimHash function, converting high dimensional data into hash codes: $$\\phi(s) = sgn(Ag(s)) \\in \\{-1,1\\}^k$$ where $g$ is an optional processing function and $A$ is a matrix drawn from standard Gaussian distribution $N(0,1)$.\n",
    "- An advanced method is to use Autoencoder to learn the lower dimension vector representation. This autoencoder has a sigmoid activation function $b(s)$ that constraint the representation vector to range $\\{0,1\\}$\n",
    "\n",
    "\n",
    "<div style=\"text-align:center\">\n",
    "    <img src=\"./image/AutoEncoder_for_Count_Based_Exploration.png\" alt=\"AutoEncoder forr Count Based Exploration\" width=\"1000\" height=\"300\">\n",
    "</div>\n"
   ]
  },
  {
   "cell_type": "markdown",
   "metadata": {},
   "source": [
    "### **4.2 Model**"
   ]
  },
  {
   "cell_type": "code",
   "execution_count": 36,
   "metadata": {},
   "outputs": [],
   "source": [
    "import math \n",
    "\n",
    "class SimHash(object) :\n",
    "  def __init__(self, state_emb, k) :\n",
    "    self.A = np.random.normal(0, 1, (k, state_emb))\n",
    "\n",
    "  def hash(self, state) :\n",
    "    hash_key = str(np.sign(self.A @ np.array(state)).tolist())                          # -> the matrix A\n",
    "    return hash_key\n",
    "\n",
    "\n",
    "class CountBasedBonusWrapepr(Wrapper):\n",
    "    def __init__(self, env):\n",
    "        super().__init__(env)\n",
    "        self.M = {}                                                                     # -> Memory counting M                                                                         \n",
    "        self.hash = SimHash(147, 56) \n",
    "        self.beta = 0.001                                                               # -> hyperparameter beta                                                 \n",
    "    \n",
    "    def _update_count_dict_(self, hash):\n",
    "        \"\"\"Function to update the counting library M, if hash is in count then + 1 otherwise create a new entry of value 0.\"\"\"\n",
    "        pre_count = 0\n",
    "\n",
    "        if hash in self.M:\n",
    "            pre_count = self.M[hash]\n",
    "        new_count = pre_count + 1\n",
    "        self.M[hash] = new_count\n",
    "\n",
    "    def get_count(self, hash):\n",
    "        return self.M[hash]\n",
    "\n",
    "    def step(self, action):\n",
    "        obs, reward, terminated, truncated, info = self.env.step(action)\n",
    "\n",
    "        obs_flatten = obs.flatten()\n",
    "\n",
    "        hash =  self.hash.hash(obs_flatten)\n",
    "\n",
    "        self._update_count_dict_(hash)\n",
    "\n",
    "        new_count = self.get_count(hash)                                                   # Get the count value after update the library. \n",
    "\n",
    "        bonus = self.beta / math.sqrt(new_count)                                           # Calculate the intrinsic reward.\n",
    "\n",
    "        reward += bonus\n",
    "\n",
    "        return obs, reward, terminated, truncated, info"
   ]
  },
  {
   "cell_type": "code",
   "execution_count": 37,
   "metadata": {},
   "outputs": [],
   "source": [
    "env = gym.make(\"MiniGrid-Empty-16x16-v0\", render_mode=\"rgb_array\")\n",
    "env = ImgObsWrapper(env)"
   ]
  },
  {
   "cell_type": "markdown",
   "metadata": {},
   "source": [
    "#### **4.2.1 Train PPO with Count Based Bonus**"
   ]
  },
  {
   "cell_type": "code",
   "execution_count": null,
   "metadata": {},
   "outputs": [],
   "source": [
    "count_base_reward = {}\n",
    "\n",
    "for run in range(5):\n",
    "    train_env = CountBasedBonusWrapepr(env)\n",
    "    \n",
    "    test_env = env\n",
    "\n",
    "    eval_callback = Eval_Callback(eval_env=env, eval_freq=10000, n_eval_episodes=10)\n",
    "\n",
    "    policy = PPO(policy=\"CnnPolicy\", env=train_env, verbose=1, policy_kwargs=get_policy_kwargs(),  ent_coef=0.005)\n",
    "\n",
    "    policy.learn(total_timesteps=100000, callback=eval_callback)\n",
    "\n",
    "    count_base_reward[f\"run_{run}\"] = eval_callback.record_reward"
   ]
  },
  {
   "cell_type": "code",
   "execution_count": 39,
   "metadata": {},
   "outputs": [],
   "source": [
    "# policy.save(\"pretrained_models/ppo_observation_count_bonus\")"
   ]
  },
  {
   "cell_type": "markdown",
   "metadata": {},
   "source": [
    "#### **4.2.2 Test PPO Agent with Count Based Bonus**"
   ]
  },
  {
   "cell_type": "code",
   "execution_count": 40,
   "metadata": {},
   "outputs": [],
   "source": [
    "# policy = PPO.load(\"pretrained_models/ppo_observation_count_bonus\")"
   ]
  },
  {
   "cell_type": "code",
   "execution_count": 41,
   "metadata": {},
   "outputs": [
    {
     "name": "stdout",
     "output_type": "stream",
     "text": [
      "The average reward for 50 runs are: 0.9642109375\n"
     ]
    }
   ],
   "source": [
    "# # Reset the environment to its initial state\n",
    "# obs, _ = test_env.reset()\n",
    "# count = 1\n",
    "# reward_list = []\n",
    "# # Perform some actions in the environment\n",
    "# while count <= 50:\n",
    "#     action, _ = policy.predict(obs) # Sample an action using the trained policy\n",
    "    \n",
    "\n",
    "#     obs, reward, done, truncated, info = test_env.step(action)  # Take a step in the environment\n",
    "\n",
    "#     # If the episode is finish either done or truncated, record reward & reset the environment\n",
    "#     if done or truncated:\n",
    "#         reward_list.append(reward)\n",
    "#         observation = test_env.reset()\n",
    "#         count += 1\n",
    "\n",
    "# print(f\"The average reward for 50 runs are: {np.mean(reward_list)}\")\n",
    "# test_env.close()  # Close the environment"
   ]
  },
  {
   "cell_type": "markdown",
   "metadata": {},
   "source": [
    "## **5. Episodic Curiousity through Reachability**"
   ]
  },
  {
   "cell_type": "markdown",
   "metadata": {},
   "source": [
    "- In this section, we will present our implementation of the reachability bonus. 🚀\n",
    "- Here, we will also implement it as a wrapper to the Minigrid environment. \n",
    "- This implementation is a simplified version of the implementation in the original paper, wherein the author uses a pretrained ResNet model to learn the feature vector from image input. 📝"
   ]
  },
  {
   "cell_type": "markdown",
   "metadata": {},
   "source": [
    "### **5.1 Key Points**"
   ]
  },
  {
   "cell_type": "markdown",
   "metadata": {},
   "source": [
    "- The main idea behind this method is to give reward to observations depending on how far it is to the observations recorded in the agent's memory.\n",
    "- A neural network is created, with the task, to determine whether one observation can be reached from another labelled as 0 for unreachable and 1 for reachable. The network can be summarized as $C(E(o_i),E(o_j))$, where $E(o_i)$ and $E(o_j)$ is the feature embeddinng of observations $o_i$ and $o_j$, and $C\\rightarrow [0,1]$ is a function that determinned reachability.\n",
    "- A memory $M$ is used to record the embedding $e$ of visited observations. When a new observation is met, we will calculate the reachability to this obsevation from every observations stored in $M$ denoted as $C(M,e)=F(c_1,...,c_{|M|})$, where $F$ is a hyperparameter method, for instance, $F=max$. \n",
    "- The bonus denoted as $\\beta$ is calculated as $\\alpha*(\\beta-C(M,e))$ where $\\alpha$ and $\\beta$ are hyperparameters.\n",
    "\n",
    "<div style=\"text-align:center\">\n",
    "    <img src=\"./image/Episodic_Reachability_Architecture.png\" alt=\"Episodic Curiosity through Reachability\" width=\"1000\" height=\"450\">\n",
    "</div>"
   ]
  },
  {
   "cell_type": "markdown",
   "metadata": {},
   "source": [
    "### **5.2 Model**"
   ]
  },
  {
   "cell_type": "code",
   "execution_count": 42,
   "metadata": {},
   "outputs": [],
   "source": [
    "class R_Model(nn.Module):\n",
    "    def __init__(self):\n",
    "        super(R_Model, self).__init__()\n",
    "        \n",
    "        # Define the number of output features after convolutional layers\n",
    "        feature_output = 64\n",
    "\n",
    "        # Embedding network -> In original implementation, the author used pretrained ResNet.\n",
    "        self.embedding = nn.Sequential(\n",
    "            nn.Conv2d(\n",
    "                in_channels=3,  # Adjusted to match the number of input channels\n",
    "                out_channels=32,\n",
    "                kernel_size=3,\n",
    "                stride=1),\n",
    "            nn.LeakyReLU(),\n",
    "            nn.Conv2d(\n",
    "                in_channels=32,\n",
    "                out_channels=64,\n",
    "                kernel_size=3,\n",
    "                stride=1),\n",
    "            nn.LeakyReLU(),\n",
    "            nn.Conv2d(\n",
    "                in_channels=64,\n",
    "                out_channels=64,\n",
    "                kernel_size=3,\n",
    "                stride=1),\n",
    "            nn.LeakyReLU(),\n",
    "            nn.Flatten(),\n",
    "            nn.Linear(feature_output, 512)\n",
    "        )\n",
    "\n",
    "        self.classification = nn.Sequential(\n",
    "            nn.Linear(512 * 2, 256),  # Combine the embeddings of two observations\n",
    "            nn.ReLU(),\n",
    "            nn.Linear(256, 256),\n",
    "            nn.ReLU(), \n",
    "            nn.Linear(256, 2),  \n",
    "            nn.Softmax(dim=1)  \n",
    "        )\n",
    "\n",
    "    def get_embedding(self, ob):\n",
    "        ob = torch.tensor(ob.reshape(1,3,7,7), dtype=torch.float32).to(device)\n",
    "        ob_emb = self.embedding(ob)\n",
    "        return ob_emb\n",
    "    \n",
    "    def get_label(self, ob_1, ob_2):\n",
    "        ob_1_emb = self.get_embedding(ob_1)\n",
    "        ob_2_emb = self.get_embedding(ob_2)\n",
    "        combined_embedding = torch.cat((ob_1_emb, ob_2_emb), dim=1).to(device)\n",
    "        prob = self.classification(combined_embedding)\n",
    "        return prob\n",
    "        \n",
    "    def get_reward(self, ob, M):\n",
    "        max_reward = 0\n",
    "        for ob_2 in M:\n",
    "            with torch.no_grad():\n",
    "                prob = self.get_label(ob, ob_2)\n",
    "            prob = prob.to(\"cpu\")\n",
    "            value = prob[0][1]\n",
    "            if value > max_reward:\n",
    "                max_reward = value\n",
    "        return max_reward.item()"
   ]
  },
  {
   "cell_type": "code",
   "execution_count": 46,
   "metadata": {},
   "outputs": [],
   "source": [
    "class EpisodicCuriousityBonusWrapepr(Wrapper):\n",
    "    def __init__(self, env):\n",
    "        super().__init__(env)\n",
    "        self.based_bonus = 0.001\n",
    "        self.M = []                                  # Memory \n",
    "        self.eps = []\n",
    "        self.max_length = 10\n",
    "\n",
    "        self.step_retrained_model = 0                                    \n",
    "        self.r_model = R_Model().to(device)\n",
    "        self.optimizer = optim.Adam(self.r_model.parameters(), lr=1e-4)\n",
    "        self.criterion = nn.BCELoss()\n",
    "        self.model_trained = False\n",
    "        self.beta = 1\n",
    "        self.alpha = 0.001\n",
    "\n",
    "        self.history = deque(maxlen=10)\n",
    "        self.k = 5                                  # Gap\n",
    "        self.gamma = 1.2\n",
    "\n",
    "\n",
    "    def reset(self, **kwargs):\n",
    "        obs = self.env.reset(**kwargs)\n",
    "        self.eps.append(obs[0])\n",
    "        self.M.append(obs[0])\n",
    "        return obs\n",
    "        \n",
    "    def step(self, action):\n",
    "        obs, reward, terminated, truncated, info = self.env.step(action)\n",
    "        self.eps.append(obs)\n",
    "        if len(self.M) > self.max_length:\n",
    "            if not any(np.array_equal(obs, array) for array in self.M):\n",
    "                self.M.pop(random.randint(0, len(self.M) - 1))\n",
    "                self.M.append(obs)\n",
    "        else:\n",
    "            if not any(np.array_equal(obs, array) for array in self.M):\n",
    "                self.M.append(obs)\n",
    " \n",
    "        if terminated or truncated: \n",
    "            self.history.append(self.eps.copy())\n",
    "            self.eps = []\n",
    "            self.M = []\n",
    "\n",
    "        # Train r_model\n",
    "        self.step_retrained_model += 1\n",
    "        if self.step_retrained_model == 30000 and len(self.history) != 0:\n",
    "            X, y = self.create_training_data()                                                      # -> labelling the training data\n",
    "            self.train_r_model(X, y)\n",
    "            self.step_retrained_model = 0\n",
    "            self.model_trained = True\n",
    "\n",
    "        if len(self.M) >= 2 and self.model_trained:                                                 # -> If network R is trained then start getting the reward\n",
    "            bonus = self.r_model.get_reward(obs, self.M)\n",
    "            bonus = self.alpha*(self.beta-bonus)\n",
    "            reward += bonus\n",
    "\n",
    "        return obs, reward, terminated, truncated, info\n",
    "    \n",
    "    def create_training_data(self):\n",
    "        \"\"\"Function to create the training dataset of neural network R\"\"\"\n",
    "        X = []\n",
    "        y = []\n",
    "        for episode in self.history:\n",
    "            for _ in range(30):\n",
    "                episode_with_indices = list(enumerate(episode))\n",
    "                index, _ = random.choice(episode_with_indices)\n",
    "\n",
    "                # Get random positive (reachable) example -> reachable 1\n",
    "                # Calculate the maximum allowable value for 'step' to stay within the range of indices\n",
    "                max_step = min(self.k, len(episode) - 1 - index)\n",
    "                if max_step == 1:\n",
    "                    step = 1\n",
    "                elif max_step == 0:\n",
    "                    continue\n",
    "                else:\n",
    "                    step = random.randint(1, max_step)\n",
    "                X.append([episode[index], episode[index+step]])\n",
    "                y.append(1)\n",
    "\n",
    "                # Get random negative (unreachable) example -> non-reachable 0\n",
    "                # If last few index then skip\n",
    "                if self.k*self.gamma > len(episode) - 1 - index:\n",
    "                    continue\n",
    "                else:\n",
    "                    step = random.randint(self.k*self.gamma, len(episode) - 1 - index)\n",
    "                    X.append([episode[index], episode[index+step]])\n",
    "                    y.append(0)\n",
    "        return X, y\n",
    " \n",
    "\n",
    "    def train_r_model(self, X, y):\n",
    "        for _ in range(5):\n",
    "            indices = list(range(len(X)))\n",
    "\n",
    "            # Shuffle the indices\n",
    "            random.shuffle(indices)\n",
    "\n",
    "            # Reorder both X and y using the shuffled indices\n",
    "            X_shuffled = [X[i] for i in indices]\n",
    "            y_shuffled = [y[i] for i in indices]\n",
    "         \n",
    "            prob_stack = []\n",
    "            for i in range(len(X)):\n",
    "                prob = self.r_model.get_label(X_shuffled[i][0], X_shuffled[i][1])\n",
    "                prob_stack.append(prob)\n",
    "            prob_stack = torch.cat(prob_stack, dim=0)\n",
    "            loss = self.criterion(prob_stack[:,1], torch.tensor(y_shuffled).float().to(device))\n",
    "            self.optimizer.zero_grad()\n",
    "            loss.backward()\n",
    "            self.optimizer.step()"
   ]
  },
  {
   "cell_type": "code",
   "execution_count": 47,
   "metadata": {},
   "outputs": [],
   "source": [
    "env = gym.make(\"MiniGrid-Empty-16x16-v0\", render_mode=\"rgb_array\")\n",
    "env = ImgObsWrapper(env)"
   ]
  },
  {
   "cell_type": "markdown",
   "metadata": {},
   "source": [
    "#### **5.2.1 Train PPO with Episodic Curiousity**"
   ]
  },
  {
   "cell_type": "code",
   "execution_count": null,
   "metadata": {},
   "outputs": [],
   "source": [
    "episodic_curiousity = {}\n",
    "\n",
    "for run in range(5):\n",
    "    train_env = EpisodicCuriousityBonusWrapepr(env)\n",
    "    \n",
    "    test_env = env  \n",
    "\n",
    "    eval_callback = Eval_Callback(eval_env=env, eval_freq=10000, n_eval_episodes=10)\n",
    "\n",
    "    policy = PPO(policy=\"CnnPolicy\", env=train_env, verbose=1, policy_kwargs=get_policy_kwargs(),  ent_coef=0.005)\n",
    "\n",
    "    policy.learn(total_timesteps=100000, callback=eval_callback)\n",
    "\n",
    "    episodic_curiousity[f\"run_{run}\"] = eval_callback.record_reward"
   ]
  },
  {
   "cell_type": "code",
   "execution_count": 49,
   "metadata": {},
   "outputs": [],
   "source": [
    "policy.save(\"pretrained_models/ppo_observation_episodic_curiousity\")"
   ]
  },
  {
   "cell_type": "markdown",
   "metadata": {},
   "source": [
    "#### **5.2.2 Test PPO Agent with Episodic Curiousity Bonus**"
   ]
  },
  {
   "cell_type": "code",
   "execution_count": 50,
   "metadata": {},
   "outputs": [],
   "source": [
    "# policy = PPO.load(\"pretrained_models/ppo_observation_episodic_curiousity\")"
   ]
  },
  {
   "cell_type": "code",
   "execution_count": 51,
   "metadata": {},
   "outputs": [],
   "source": [
    "# # Reset the environment to its initial state\n",
    "# obs, _ = test_env.reset()\n",
    "# count = 1\n",
    "# reward_list = []\n",
    "# # Perform some actions in the environment\n",
    "# while count <= 50:\n",
    "#     action, _ = policy.predict(obs) # Sample an action using the trained policy\n",
    "    \n",
    "#     # print(observation, action)\n",
    "\n",
    "#     obs, reward, done, truncated, info = test_env.step(action)  # Take a step in the environment\n",
    "\n",
    "\n",
    "#     # If the episode is finish either done or truncated, record reward & reset the environment\n",
    "#     if done or truncated:\n",
    "#         reward_list.append(reward)\n",
    "#         observation = test_env.reset()\n",
    "#         count += 1\n",
    "\n",
    "# print(f\"The average reward for 50 runs are: {np.mean(reward_list)}\")\n",
    "# test_env.close()  # Close the environment"
   ]
  },
  {
   "cell_type": "markdown",
   "metadata": {},
   "source": [
    "## **6. Results Visualization**"
   ]
  },
  {
   "cell_type": "markdown",
   "metadata": {},
   "source": [
    "### **6.1 Saving Data**"
   ]
  },
  {
   "cell_type": "code",
   "execution_count": null,
   "metadata": {},
   "outputs": [],
   "source": [
    "eval_freq = 10000\n",
    "total_timesteps = 100000\n",
    "\n",
    "row_idx = [i for i in range(0, total_timesteps, eval_freq)]\n",
    "\n",
    "df_simple_PPO = pd.DataFrame.from_dict(simple_ppo_reward, orient='index').T\n",
    "\n",
    "df_simple_PPO.index = row_idx\n",
    "\n",
    "df_count_base = pd.DataFrame.from_dict(count_base_reward, orient='index').T\n",
    "\n",
    "df_count_base.index = row_idx\n",
    "\n",
    "df_episodic_curiousity = pd.DataFrame.from_dict(episodic_curiousity, orient='index').T\n",
    "\n",
    "df_episodic_curiousity.index = row_idx\n",
    "\n",
    "\n",
    "# Save DataFrames to CSV files\n",
    "df_simple_PPO.to_csv('data/simple_ppo_rewards.csv')\n",
    "df_count_base.to_csv('data/count_base_rewards.csv')\n",
    "df_episodic_curiousity.to_csv('data/episodic_curiousity.csv')\n",
    "\n"
   ]
  },
  {
   "cell_type": "markdown",
   "metadata": {},
   "source": [
    "### **6.2 Load Data & Visualizing**"
   ]
  },
  {
   "cell_type": "code",
   "execution_count": 48,
   "metadata": {},
   "outputs": [],
   "source": [
    "df_simple_PPO = pd.read_csv('data/simple_ppo_rewards.csv')\n",
    "df_count_base = pd.read_csv('data/count_base_rewards.csv')\n",
    "df_episodic_curiousity = pd.read_csv('data/episodic_curiousity.csv')"
   ]
  },
  {
   "cell_type": "code",
   "execution_count": 49,
   "metadata": {},
   "outputs": [],
   "source": [
    "dfs = [df_simple_PPO, df_count_base, df_episodic_curiousity]\n",
    "\n",
    "for df in dfs:\n",
    "    df[\"mean\"] = df.iloc[:,1:].mean(axis=1)\n",
    "    df[\"mean_smoothed\"] = df[\"mean\"].ewm(alpha=1-0.9).mean()\n"
   ]
  },
  {
   "cell_type": "code",
   "execution_count": 50,
   "metadata": {},
   "outputs": [
    {
     "data": {
      "image/png": "[encoded data removed]",
      "text/plain": [
       "<Figure size 640x480 with 1 Axes>"
      ]
     },
     "metadata": {},
     "output_type": "display_data"
    }
   ],
   "source": [
    "# Plot simple_ppo_reward\n",
    "plt.plot(df_simple_PPO.index, df_simple_PPO['mean_smoothed'], label='Simple PPO')\n",
    "\n",
    "# Plot count_base_reward\n",
    "plt.plot(df_count_base.index, df_count_base['mean_smoothed'], label='Count-Based')\n",
    "\n",
    "# Plot episodic_curiousity\n",
    "plt.plot(df_episodic_curiousity.index, df_episodic_curiousity['mean_smoothed'], label='Episodic-Curiousity')\n",
    "\n",
    "\n",
    "# Add labels and title\n",
    "plt.xlabel('Timestep')\n",
    "plt.ylabel('Reward')\n",
    "plt.title('Average return over 5 runs (Evaluate over 10 episodes)')\n",
    "\n",
    "# Add legend\n",
    "plt.legend()\n",
    "\n",
    "# Display the plot\n",
    "plt.show()\n",
    "    "
   ]
  }
 ],
 "metadata": {
  "kernelspec": {
   "display_name": "base",
   "language": "python",
   "name": "python3"
  },
  "language_info": {
   "codemirror_mode": {
    "name": "ipython",
    "version": 3
   },
   "file_extension": ".py",
   "mimetype": "text/x-python",
   "name": "python",
   "nbconvert_exporter": "python",
   "pygments_lexer": "ipython3",
   "version": "3.10.12"
  }
 },
 "nbformat": 4,
 "nbformat_minor": 2
}
