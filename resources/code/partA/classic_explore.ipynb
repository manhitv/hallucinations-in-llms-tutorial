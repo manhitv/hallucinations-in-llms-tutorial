{
 "cells": [
  {
   "cell_type": "markdown",
   "metadata": {},
   "source": [
    "# PART A: Reinforcement Learning Fundamentals and Exploration Inefficiency\n"
   ]
  },
  {
   "cell_type": "markdown",
   "metadata": {},
   "source": [
    "## Reinforcement Learning Basics\n",
    "\n",
    "- In reinforcement learning (RL), an agent interacts with the environment, taking actions $a$, receiving a reward $r$, and moving to a new state $s$ \n",
    "- The agent is tasked with maximizing the accumulated rewards or returns $R$ over time by finding optimal actions (policy) \n",
    "<p align=\"center\">\n",
    "<br/>\n",
    "<img src=\"./RLbasics.gif\", width=\"300\">\n",
    "<p>\n"
   ]
  },
  {
   "cell_type": "markdown",
   "metadata": {},
   "source": [
    "## Exploration in RL\n",
    "\n",
    "- Any RL algorithm requires exploration phase to collect data for training the policy or value functions\n",
    "- A good exploration phase will make the learning feasible or more efficient\n",
    "<p align=\"center\">\n",
    "<br/>\n",
    "<img src=\"./exp_in_rl.JPG\", width=\"500\">\n",
    "<p>\n",
    "\n"
   ]
  },
  {
   "cell_type": "markdown",
   "metadata": {},
   "source": [
    "## Classic Exploration\n",
    "-  Most are specifically designed for bandit problems, and thus, they are hard to apply in large-scale or high-dimensional problems (e.g., Atari games), resulting in increased computational demands that can be impractical \n",
    "\n",
    "- These methods heavily rely on specific assumptions about reward distributions or system dynamics, limiting their adaptability when assumptions do not hold   \n",
    "\n",
    "- They may struggle in dynamic environments with complex reward structures or frequent changes, leading to suboptimal performance. However, their simplicity make them suitable for bandit setting.  \n",
    "\n"
   ]
  },
  {
   "cell_type": "markdown",
   "metadata": {},
   "source": [
    "## Multi-Armed Bandit Problem \n",
    "\n",
    "- In this problem, a machine with multiple arms is given. Pulling an arm results in a reward\n",
    "- Each machine offers a random reward based on a unique probability distribution, which is not known beforehand\n",
    "- The goal is to maximize the total rewards accumulated over a series of lever pulls\n",
    "- The multi-armed bandit problem epitomizes the exploration-exploitation tradeoff dilemma within reinforcement learning\n",
    "- Unlike general RL scenarios, actions chosen in bandit problems do not influence the reward distribution of the arms\n",
    "\n",
    "## Problem Formulation\n",
    "- Mathematically, given reward distrbutions of the bandit arms $B=\\{R_1, R_2, ..., R_k\\}$, each distribution being associated with the rewards delivered by one of the ${\\displaystyle K\\in \\mathbb {N} ^{+}}$. The agent iteratively plays one lever per round and observes the associated reward $r_t$. The objective is to maximize the sum of the collected rewards. The horizon ${\\displaystyle H}$ refers to the remaining number of rounds to be played\n",
    "- The regret ${\\displaystyle \\rho }$ after ${\\displaystyle T}$ rounds is defined as the expected difference between the reward sum associated with an optimal strategy (always choosing the best arm) and the sum of the collected rewards:\n",
    "$$\n",
    "\\rho=T\\mu^*-\\sum_{t=1}^Tr_t\n",
    "$$ \n",
    "where \n",
    "$\\mu^*$ is the maximal reward mean ${\\displaystyle \\mu ^{*}=\\max _{k}\\{\\mu _{k}\\}}$ and ${\\displaystyle {{r}}_{t}}$ is the reward in round t\n",
    "- The goal can be casted to minizing the regret $\\rho$\n",
    "\n",
    "<p align=\"center\">\n",
    "<br/>\n",
    "<img src=\"./mab.jpg\", width=\"500\">\n",
    "<p>\n"
   ]
  },
  {
   "cell_type": "markdown",
   "metadata": {},
   "source": [
    "## Implemntation of Multi-arm Bandit \n",
    "### The BanditArm Class"
   ]
  },
  {
   "cell_type": "code",
   "execution_count": 1,
   "metadata": {},
   "outputs": [],
   "source": [
    "# Code adapted from: https://github.com/WhatIThinkAbout/BabyRobot/tree/master/Multi_Armed_Bandits\n",
    "import random\n",
    "import numpy as np\n",
    "# display all floating point numbers to 3 decimal places\n",
    "np.set_printoptions(formatter={'float': lambda x: \"{0:0.3f}\".format(x)})\n",
    "import pandas as pd\n",
    "import scipy.stats as stats\n",
    "import seaborn as sns\n",
    "import matplotlib\n",
    "import matplotlib.pyplot as plt\n",
    "from tqdm import tqdm\n",
    "from IPython.core.pylabtools import figsize\n",
    "\n",
    "\n",
    "class BanditArm:\n",
    "    \"\"\" the base arm class \"\"\"\n",
    "    \n",
    "    def __init__(self, q):                \n",
    "        self.q = q        # the true reward value              \n",
    "        self.initialize() # reset the arm\n",
    "        \n",
    "    def initialize(self):\n",
    "        self.Q = 0   # the estimate of this arm's reward value                \n",
    "        self.n = 0   # the number of times this arm has been tried        \n",
    "    \n",
    "    def pull(self):\n",
    "        \"\"\" return a random amount of reward \"\"\"\n",
    "        \n",
    "        # the reward is a guassian distribution with unit variance around the true\n",
    "        # value 'q'\n",
    "        value = np.random.randn() + self.q        \n",
    "        \n",
    "        # never allow a charge less than 0 to be returned        \n",
    "        return 0 if value < 0 else value\n",
    "                    \n",
    "    def update(self,R):\n",
    "        \"\"\" update this arm statistics after it has returned reward value 'R' \"\"\"     \n",
    "    \n",
    "        # increment the number of times this arm has been tried\n",
    "        self.n += 1\n",
    "\n",
    "        # the new estimate of the mean is calculated from the old estimate\n",
    "        self.Q = (1 - 1.0/self.n) * self.Q + (1.0/self.n) * R\n",
    "    \n",
    "    def sample(self,t):\n",
    "        \"\"\" return an estimate of the arm's reward value \"\"\"\n",
    "        return self.Q"
   ]
  },
  {
   "cell_type": "markdown",
   "metadata": {},
   "source": [
    "### The ArmTester Class"
   ]
  },
  {
   "cell_type": "code",
   "execution_count": 2,
   "metadata": {},
   "outputs": [],
   "source": [
    "\n",
    "\"\"\"\n",
    "    Helper Functions\n",
    "\"\"\"\n",
    "\n",
    "# return the index of the largest value in the supplied list\n",
    "# - arbitrarily select between the largest values in the case of a tie\n",
    "# (the standard np.argmax just chooses the first value in the case of a tie)\n",
    "\n",
    "def random_argmax(value_list):\n",
    "  \"\"\" a random tie-breaking argmax\"\"\"\n",
    "  values = np.asarray(value_list)\n",
    "  return np.argmax(np.random.random(values.shape) * (values==values.max()))\n",
    "\n",
    "\n",
    "class ArmTester():\n",
    "    \"\"\" create and test a set of arms over a single test run \"\"\"\n",
    "\n",
    "    def __init__(self, arm_order, arm=BanditArm, multiplier=2, **kwargs ):  \n",
    "        \n",
    "        # create arms with a mean value defined by arm order \n",
    "        self.arms = [arm((q*multiplier)+2, **kwargs) for q in arm_order]     \n",
    "        \n",
    "        # set the number of arms equal to the number created\n",
    "        self.number_of_arms = len(self.arms)           \n",
    "\n",
    "        self.optimal_arm_index = np.argmax(arm_order)   \n",
    "        \n",
    "        # by default a arm tester records 2 bits of information over a run\n",
    "        self.number_of_stats = kwargs.pop('number_of_stats', 2)       \n",
    "             \n",
    "            \n",
    "    def initialize_run(self, number_of_steps):\n",
    "        \"\"\" reset counters at the start of a run \"\"\"\n",
    "        \n",
    "        # save the number of steps over which the run will take place\n",
    "        self.number_of_steps = number_of_steps\n",
    "        \n",
    "        # reset the actual number of steps that the test ran for\n",
    "        self.total_steps = 0\n",
    "        \n",
    "        # monitor the total reward obtained over the run\n",
    "        self.total_reward = 0\n",
    "        \n",
    "        # the current total reward at each timestep of the run\n",
    "        self.total_reward_per_timestep = []\n",
    "        \n",
    "        # the actual reward obtained at each timestep\n",
    "        self.reward_per_timestep = []\n",
    "           \n",
    "        # stats for each time-step\n",
    "        # - by default records: estimate, number of trials\n",
    "        self.arm_stats = np.zeros(shape=(number_of_steps+1, \n",
    "                                            self.number_of_arms, \n",
    "                                            self.number_of_stats))\n",
    "        \n",
    "        # ensure that all arms are re-initialized\n",
    "        for arm in self.arms: arm.initialize()\n",
    "\n",
    "    def pull_and_update(self,arm_index):\n",
    "        \"\"\" pull & update the specified arm and associated parameters \"\"\"\n",
    "        \n",
    "        # pull the chosen arm and update its mean reward value\n",
    "        reward = self.arms[arm_index].pull()\n",
    "        self.arms[arm_index].update(reward)\n",
    "\n",
    "        # update the total reward\n",
    "        self.total_reward += reward   \n",
    "        \n",
    "        # store the current total reward at this timestep\n",
    "        self.total_reward_per_timestep.append(self.total_reward)\n",
    "        \n",
    "        # store the reward obtained at this timestep\n",
    "        self.reward_per_timestep.append(reward)        \n",
    "        \n",
    "        \n",
    "    def get_arm_stats( self, t ):\n",
    "        \"\"\" get the current information from each arm \"\"\"        \n",
    "        arm_stats = [[arm.Q, arm.n] for arm in self.arms]\n",
    "        return arm_stats     \n",
    "    \n",
    "    def get_mean_reward( self ):\n",
    "        \"\"\" the total reward averaged over the number of time steps \"\"\"\n",
    "        return (self.total_reward/self.total_steps)\n",
    "    \n",
    "    def get_total_reward_per_timestep( self ):\n",
    "        \"\"\" the cumulative total reward at each timestep of the run \"\"\"\n",
    "        return self.total_reward_per_timestep\n",
    "    \n",
    "    def get_reward_per_timestep( self ):\n",
    "        \"\"\" the actual reward obtained at each timestep of the run \"\"\"\n",
    "        return self.reward_per_timestep\n",
    "    \n",
    "    def get_estimates(self):\n",
    "        \"\"\" get the estimate of each arm's reward at each timestep of the run \"\"\"\n",
    "        return self.arm_stats[:,:,0]  \n",
    "    \n",
    "    def get_number_of_trials(self):\n",
    "        \"\"\" get the number of trials of each arm at each timestep of the run \"\"\"\n",
    "        return self.arm_stats[:,:,1]          \n",
    "                \n",
    "    def get_arm_percentages( self ):\n",
    "        \"\"\" get the percentage of times each arm was tried over the run \"\"\"\n",
    "        return (self.arm_stats[:,:,1][self.total_steps]/self.total_steps)        \n",
    "    \n",
    "    def get_optimal_arm_percentage( self ):\n",
    "        \"\"\" get the percentage of times the optimal arm was tried \"\"\"        \n",
    "        final_trials = self.arm_stats[:,:,1][self.total_steps]\n",
    "        return (final_trials[self.optimal_arm_index]/self.total_steps)\n",
    "    \n",
    "    def get_time_steps( self ):\n",
    "        \"\"\" get the number of time steps that the test ran for \"\"\"\n",
    "        return self.total_steps\n",
    "    \n",
    "    def select_arm( self, t ):\n",
    "        \"\"\" Greedy Selection\"\"\"\n",
    "        \n",
    "        # choose the arm with the current highest mean reward or arbitrarily\n",
    "        # select an arm in the case of a tie            \n",
    "        arm_index = random_argmax([arm.sample(t+1) for arm in self.arms]) \n",
    "        return arm_index     \n",
    "    \n",
    "    \n",
    "    def run( self, number_of_steps, maximum_total_reward = float('inf')):  \n",
    "        \"\"\" perform a single run, over the set of arms, \n",
    "            for the defined number of steps \"\"\"\n",
    "        \n",
    "        # reset the run counters\n",
    "        self.initialize_run(number_of_steps)\n",
    "        \n",
    "        # loop for the specified number of time-steps\n",
    "        for t in range(number_of_steps):\n",
    "\n",
    "            # get information about all arms at the start of the time step\n",
    "            self.arm_stats[t] = self.get_arm_stats(t)            \n",
    "            \n",
    "            # select an arm\n",
    "            arm_index = self.select_arm(t)\n",
    "            \n",
    "            # pull the chosen arm and update its mean reward value\n",
    "            self.pull_and_update(arm_index)\n",
    "            \n",
    "            # test if the accumulated total reward is greater than the maximum\n",
    "            if self.total_reward > maximum_total_reward:\n",
    "                break\n",
    "       \n",
    "        # save the actual number of steps that have been run\n",
    "        self.total_steps = t    \n",
    "    \n",
    "        # get the stats for each arm at the end of the run        \n",
    "        self.arm_stats[t+1] = self.get_arm_stats(t+1)           \n",
    "        \n",
    "        return self.total_steps, self.total_reward"
   ]
  },
  {
   "cell_type": "markdown",
   "metadata": {},
   "source": [
    "### The BanditEvironment Class"
   ]
  },
  {
   "cell_type": "code",
   "execution_count": 3,
   "metadata": {},
   "outputs": [],
   "source": [
    "class BanditEvironment():\n",
    "    \"\"\" setup and run repeated arm tests to get the average results \"\"\"\n",
    "    \n",
    "    def __init__(self, \n",
    "                 arm_tester = ArmTester,\n",
    "                 number_of_tests = 1000,\n",
    "                 number_of_steps = 30,                      \n",
    "                 maximum_total_reward = float('inf'),\n",
    "                 **kwargs ):  \n",
    "        \n",
    "        self.arm_tester = arm_tester\n",
    "        self.number_of_tests = number_of_tests\n",
    "        self.number_of_steps = number_of_steps    \n",
    "        self.maximum_total_reward = maximum_total_reward\n",
    "        self.number_of_arms = self.arm_tester.number_of_arms\n",
    "                \n",
    "    def initialize_run(self):\n",
    "        \n",
    "        # keep track of the average values over the run\n",
    "        self.mean_total_reward = 0.\n",
    "        self.optimal_selected = 0.                \n",
    "        self.mean_time_steps = 0.\n",
    "        self.arm_percentages = np.zeros(self.number_of_arms)   \n",
    "        self.estimates = np.zeros(shape=(self.number_of_steps+1,self.number_of_arms))        \n",
    "        self.number_of_trials = np.zeros(shape=(self.number_of_steps+1,self.number_of_arms))\n",
    "        \n",
    "        # the cumulative total reward per timestep\n",
    "        self.cumulative_reward_per_timestep = np.zeros(shape=(self.number_of_steps))\n",
    "        \n",
    "        # the actual reward obtained at each timestep\n",
    "        self.reward_per_timestep = np.zeros(shape=(self.number_of_steps))\n",
    "        \n",
    "    def get_mean_total_reward(self):\n",
    "        \"\"\" the final total reward averaged over the number of timesteps \"\"\"\n",
    "        return self.mean_total_reward\n",
    "    \n",
    "    def get_cumulative_reward_per_timestep(self):\n",
    "        \"\"\" the cumulative total reward per timestep \"\"\"\n",
    "        return self.cumulative_reward_per_timestep\n",
    "    \n",
    "    def get_reward_per_timestep(self):\n",
    "        \"\"\" the mean actual reward obtained at each timestep \"\"\"\n",
    "        return self.reward_per_timestep\n",
    "\n",
    "    def get_optimal_selected(self):\n",
    "        \"\"\" the mean times the optimal arm was selected \"\"\"\n",
    "        return self.optimal_selected\n",
    "\n",
    "    def get_arm_percentages(self): \n",
    "        \"\"\" the mean of the percentage times each arm was selected \"\"\"\n",
    "        return self.arm_percentages\n",
    "    \n",
    "    def get_estimates(self):\n",
    "        \"\"\" per arm reward estimates \"\"\"\n",
    "        return self.estimates\n",
    "    \n",
    "    def get_number_of_trials(self):\n",
    "        \"\"\" per arm number of trials \"\"\"\n",
    "        return self.number_of_trials  \n",
    "    \n",
    "    def get_mean_time_steps(self):\n",
    "        \"\"\" the average number of trials of each test \"\"\"\n",
    "        return self.mean_time_steps\n",
    "    \n",
    "    def update_mean( self, current_mean, new_value, n ):\n",
    "        \"\"\" calculate the new mean from the previous mean and the new value \"\"\"\n",
    "        return (1 - 1.0/n) * current_mean + (1.0/n) * new_value\n",
    "\n",
    "    def update_mean_array( self, current_mean, new_value, n ):\n",
    "        \"\"\" calculate the new mean from the previous mean and the new value for an array \"\"\"\n",
    "\n",
    "        new_value = np.array(new_value)\n",
    "        \n",
    "        # pad the new array with its last value to make sure its the same length as the original           \n",
    "        pad_length = (current_mean.shape[0] - new_value.shape[0])               \n",
    "        \n",
    "        if pad_length > 0:\n",
    "            new_array = np.pad(new_value,(0,pad_length), mode='constant', constant_values=new_value[-1])\n",
    "        else:\n",
    "            new_array = new_value\n",
    "    \n",
    "        return (1 - 1.0/n) * current_mean + (1.0/n) * new_array\n",
    "        \n",
    "    def record_test_stats(self,n):\n",
    "        \"\"\" update the mean value for each statistic being tracked over a run \"\"\"\n",
    "\n",
    "        # calculate the new means from the old means and the new value\n",
    "        tester = self.arm_tester\n",
    "        self.mean_total_reward = self.update_mean( self.mean_total_reward, tester.get_mean_reward(), n)\n",
    "        self.optimal_selected = self.update_mean( self.optimal_selected, tester.get_optimal_arm_percentage(), n)\n",
    "        self.arm_percentages = self.update_mean( self.arm_percentages, tester.get_arm_percentages(), n)        \n",
    "        self.mean_time_steps = self.update_mean( self.mean_time_steps, tester.get_time_steps(), n)\n",
    "        \n",
    "        self.cumulative_reward_per_timestep = self.update_mean_array( self.cumulative_reward_per_timestep, \n",
    "                                                                      tester.get_total_reward_per_timestep(), n)        \n",
    "\n",
    "        # check if the tests are only running until a maximum reward value is reached\n",
    "        if self.maximum_total_reward == float('inf'):\n",
    "\n",
    "            self.estimates = self.update_mean_array( self.estimates, tester.get_estimates(), n)        \n",
    "            self.cumulative_reward_per_timestep = self.update_mean_array( self.cumulative_reward_per_timestep, \n",
    "                                                                          tester.get_total_reward_per_timestep(), n)\n",
    "            self.reward_per_timestep = self.update_mean_array( self.reward_per_timestep, tester.get_reward_per_timestep(), n)\n",
    "            self.number_of_trials = self.update_mean_array( self.number_of_trials, tester.get_number_of_trials(), n)\n",
    "    \n",
    "    def run(self):\n",
    "        \"\"\" repeat the test over a set of arms for the specified number of trials \"\"\"\n",
    "                    \n",
    "        # do the specified number of runs for a single test\n",
    "        self.initialize_run()\n",
    "        for n in tqdm(range(1,self.number_of_tests+1)):\n",
    "\n",
    "            # do one run of the test                               \n",
    "            self.arm_tester.run( self.number_of_steps, self.maximum_total_reward )\n",
    "            self.record_test_stats(n)                         \n",
    "           "
   ]
  },
  {
   "cell_type": "markdown",
   "metadata": {},
   "source": [
    "### Finally, let's define the experiment running function"
   ]
  },
  {
   "cell_type": "code",
   "execution_count": 4,
   "metadata": {},
   "outputs": [],
   "source": [
    "def run_multiple_tests( tester, max_steps = 500, show_arm_percentages = True ):\n",
    "    mean_rewards = []\n",
    "    number_of_tests = 500\n",
    "    number_of_steps = max_steps\n",
    "    maximum_total_reward = 800\n",
    "\n",
    "    experiment = BanditEvironment(arm_tester   = tester,\n",
    "                                  number_of_tests = number_of_tests,\n",
    "                                  number_of_steps = number_of_steps,\n",
    "                                  maximum_total_reward = maximum_total_reward)\n",
    "    experiment.run()\n",
    "\n",
    "    print(f'Mean Reward per Time Step = {experiment.get_mean_total_reward():0.3f}')\n",
    "    print(f'Optimal Arm Selected = {experiment.get_optimal_selected():0.3f}')    \n",
    "    print(f'Average Number of Trials Per Run = {experiment.get_mean_time_steps():0.3f}')\n",
    "    if show_arm_percentages:\n",
    "      print(f'Arm Percentages = {experiment.get_arm_percentages()}') \n",
    "        \n",
    "    mean_rewards.append(f\"{experiment.get_mean_total_reward():0.3f}\")\n",
    "    return experiment.get_cumulative_reward_per_timestep()"
   ]
  },
  {
   "cell_type": "markdown",
   "metadata": {},
   "source": [
    "### Let's test the default greedy strategy"
   ]
  },
  {
   "cell_type": "code",
   "execution_count": 5,
   "metadata": {},
   "outputs": [],
   "source": [
    "# create 5 arms in a fixed order\n",
    "ARM_ORDER = [2,1,3,5,4]\n",
    "MULTIPLIER = 0.1\n",
    "np.random.seed(0)\n",
    "random.seed(0)"
   ]
  },
  {
   "cell_type": "markdown",
   "metadata": {},
   "source": [
    "Given the order, the true values for the arms are defined by this fixed rule:"
   ]
  },
  {
   "cell_type": "code",
   "execution_count": 6,
   "metadata": {},
   "outputs": [
    {
     "name": "stdout",
     "output_type": "stream",
     "text": [
      "[0.2, 0.1, 0.30000000000000004, 0.5, 0.4]\n"
     ]
    }
   ],
   "source": [
    "print([(q*MULTIPLIER) for q in ARM_ORDER])  "
   ]
  },
  {
   "cell_type": "markdown",
   "metadata": {},
   "source": [
    "This mean the optimal arm is:  "
   ]
  },
  {
   "cell_type": "code",
   "execution_count": 7,
   "metadata": {},
   "outputs": [
    {
     "name": "stdout",
     "output_type": "stream",
     "text": [
      "3\n"
     ]
    }
   ],
   "source": [
    "print(np.argmax([(q*MULTIPLIER)+2 for q in ARM_ORDER]))"
   ]
  },
  {
   "cell_type": "code",
   "execution_count": 8,
   "metadata": {},
   "outputs": [
    {
     "name": "stderr",
     "output_type": "stream",
     "text": [
      "100%|████████████████████████████████████████████████████████████████████████████████| 500/500 [00:05<00:00, 97.80it/s]"
     ]
    },
    {
     "name": "stdout",
     "output_type": "stream",
     "text": [
      "Mean Reward per Time Step = 2.321\n",
      "Optimal Arm Selected = 0.214\n",
      "Average Number of Trials Per Run = 346.776\n",
      "Arm Percentages = [0.208 0.184 0.176 0.214 0.218]\n"
     ]
    },
    {
     "name": "stderr",
     "output_type": "stream",
     "text": [
      "\n"
     ]
    }
   ],
   "source": [
    "\n",
    "# Greedy Selection\n",
    "greedy_result = run_multiple_tests(ArmTester(ARM_ORDER, BanditArm, MULTIPLIER ) )"
   ]
  },
  {
   "cell_type": "markdown",
   "metadata": {},
   "source": [
    "### Let's implement a better approach: $\\epsilon$-greedy"
   ]
  },
  {
   "cell_type": "code",
   "execution_count": 9,
   "metadata": {},
   "outputs": [],
   "source": [
    "class EpsilonGreedySelectionTester( ArmTester ):\n",
    "\n",
    "    def __init__(self, arm_order, multiplier, epsilon = 0.2 ):  \n",
    "        \n",
    "        # create a standard arm tester\n",
    "        super().__init__(arm_order=arm_order, multiplier=multiplier) \n",
    "        \n",
    "        # save the probability of selecting the non-greedy action\n",
    "        self.epsilon = epsilon\n",
    "    \n",
    "    \n",
    "    def select_arm( self, t ):\n",
    "        \"\"\" Epsilon-Greedy Arm Selection\"\"\"\n",
    "        \n",
    "        # probability of selecting a random arm\n",
    "        p = np.random.random()\n",
    "\n",
    "        # if the probability is less than epsilon then a random arm is chosen from the complete set\n",
    "        if p < self.epsilon:\n",
    "            arm_index = np.random.choice(self.number_of_arms)\n",
    "        else:\n",
    "            # choose the arm with the current highest mean reward or arbitrary select a arm in the case of a tie            \n",
    "            arm_index = random_argmax([arm.sample(t) for arm in self.arms])               \n",
    "        \n",
    "        return arm_index"
   ]
  },
  {
   "cell_type": "markdown",
   "metadata": {},
   "source": [
    "### Let's test $\\epsilon$-greedy"
   ]
  },
  {
   "cell_type": "code",
   "execution_count": 10,
   "metadata": {},
   "outputs": [
    {
     "name": "stderr",
     "output_type": "stream",
     "text": [
      "100%|███████████████████████████████████████████████████████████████████████████████| 500/500 [00:04<00:00, 116.50it/s]"
     ]
    },
    {
     "name": "stdout",
     "output_type": "stream",
     "text": [
      "Mean Reward per Time Step = 2.336\n",
      "Optimal Arm Selected = 0.275\n",
      "Average Number of Trials Per Run = 343.228\n",
      "Arm Percentages = [0.171 0.166 0.179 0.275 0.210]\n"
     ]
    },
    {
     "name": "stderr",
     "output_type": "stream",
     "text": [
      "\n"
     ]
    }
   ],
   "source": [
    "# Epsilon Greedy\n",
    "_ = run_multiple_tests(EpsilonGreedySelectionTester(ARM_ORDER, MULTIPLIER, epsilon = 0.8 ) )"
   ]
  },
  {
   "cell_type": "markdown",
   "metadata": {},
   "source": [
    "We can tune $\\epsilon$ to improve the performance further. Note that:\n",
    "- $\\epsilon=0$: Greedy Selection\n",
    "- $\\epsilon=1$: Random Selection\n",
    "- Normally, a balanced $0<\\epsilon<1$ will be the best"
   ]
  },
  {
   "cell_type": "code",
   "execution_count": 11,
   "metadata": {},
   "outputs": [
    {
     "name": "stderr",
     "output_type": "stream",
     "text": [
      "  2%|█▉                                                                              | 12/500 [00:00<00:04, 106.82it/s]"
     ]
    },
    {
     "name": "stdout",
     "output_type": "stream",
     "text": [
      "---STATISTICS For Epsilon-Greedy (e=0.0)--\n"
     ]
    },
    {
     "name": "stderr",
     "output_type": "stream",
     "text": [
      "100%|████████████████████████████████████████████████████████████████████████████████| 500/500 [00:05<00:00, 98.54it/s]\n",
      "  2%|█▌                                                                               | 10/500 [00:00<00:05, 96.80it/s]"
     ]
    },
    {
     "name": "stdout",
     "output_type": "stream",
     "text": [
      "Mean Reward per Time Step = 2.308\n",
      "Optimal Arm Selected = 0.196\n",
      "Average Number of Trials Per Run = 348.730\n",
      "Arm Percentages = [0.216 0.208 0.192 0.196 0.188]\n",
      "---STATISTICS For Epsilon-Greedy (e=0.2)--\n"
     ]
    },
    {
     "name": "stderr",
     "output_type": "stream",
     "text": [
      "100%|████████████████████████████████████████████████████████████████████████████████| 500/500 [00:05<00:00, 97.06it/s]\n",
      "  3%|██▏                                                                             | 14/500 [00:00<00:03, 122.70it/s]"
     ]
    },
    {
     "name": "stdout",
     "output_type": "stream",
     "text": [
      "Mean Reward per Time Step = 2.402\n",
      "Optimal Arm Selected = 0.442\n",
      "Average Number of Trials Per Run = 334.058\n",
      "Arm Percentages = [0.091 0.064 0.141 0.442 0.262]\n",
      "---STATISTICS For Epsilon-Greedy (e=0.4)--\n"
     ]
    },
    {
     "name": "stderr",
     "output_type": "stream",
     "text": [
      "100%|███████████████████████████████████████████████████████████████████████████████| 500/500 [00:04<00:00, 111.05it/s]\n",
      "  3%|██▍                                                                             | 15/500 [00:00<00:03, 139.33it/s]"
     ]
    },
    {
     "name": "stdout",
     "output_type": "stream",
     "text": [
      "Mean Reward per Time Step = 2.385\n",
      "Optimal Arm Selected = 0.400\n",
      "Average Number of Trials Per Run = 336.296\n",
      "Arm Percentages = [0.110 0.096 0.142 0.400 0.251]\n",
      "---STATISTICS For Epsilon-Greedy (e=0.6)--\n"
     ]
    },
    {
     "name": "stderr",
     "output_type": "stream",
     "text": [
      "100%|███████████████████████████████████████████████████████████████████████████████| 500/500 [00:04<00:00, 113.03it/s]\n",
      "  3%|██▍                                                                             | 15/500 [00:00<00:03, 136.79it/s]"
     ]
    },
    {
     "name": "stdout",
     "output_type": "stream",
     "text": [
      "Mean Reward per Time Step = 2.362\n",
      "Optimal Arm Selected = 0.343\n",
      "Average Number of Trials Per Run = 339.462\n",
      "Arm Percentages = [0.142 0.130 0.164 0.343 0.221]\n",
      "---STATISTICS For Epsilon-Greedy (e=0.8)--\n"
     ]
    },
    {
     "name": "stderr",
     "output_type": "stream",
     "text": [
      "100%|███████████████████████████████████████████████████████████████████████████████| 500/500 [00:04<00:00, 107.71it/s]\n",
      "  3%|██▍                                                                             | 15/500 [00:00<00:03, 129.87it/s]"
     ]
    },
    {
     "name": "stdout",
     "output_type": "stream",
     "text": [
      "Mean Reward per Time Step = 2.334\n",
      "Optimal Arm Selected = 0.266\n",
      "Average Number of Trials Per Run = 343.464\n",
      "Arm Percentages = [0.170 0.166 0.184 0.266 0.214]\n",
      "---STATISTICS For Epsilon-Greedy (e=1.0)--\n"
     ]
    },
    {
     "name": "stderr",
     "output_type": "stream",
     "text": [
      "100%|███████████████████████████████████████████████████████████████████████████████| 500/500 [00:03<00:00, 138.95it/s]"
     ]
    },
    {
     "name": "stdout",
     "output_type": "stream",
     "text": [
      "Mean Reward per Time Step = 2.312\n",
      "Optimal Arm Selected = 0.202\n",
      "Average Number of Trials Per Run = 346.758\n",
      "Arm Percentages = [0.198 0.200 0.200 0.202 0.200]\n"
     ]
    },
    {
     "name": "stderr",
     "output_type": "stream",
     "text": [
      "\n"
     ]
    }
   ],
   "source": [
    "for e in [0.0,0.2,0.4,0.6,0.8,1.0]:\n",
    "    print(f\"---STATISTICS For Epsilon-Greedy (e={e})--\")\n",
    "    run_multiple_tests(EpsilonGreedySelectionTester(ARM_ORDER, MULTIPLIER, epsilon = e ) )"
   ]
  },
  {
   "cell_type": "markdown",
   "metadata": {},
   "source": [
    "As we can see, for this specific ARM_ORDER, only some $\\epsilon$ show clearly better results than Greedy. They can somehow identify the best arm, indicated by a higher percentage.  \n"
   ]
  },
  {
   "cell_type": "code",
   "execution_count": 12,
   "metadata": {},
   "outputs": [
    {
     "name": "stderr",
     "output_type": "stream",
     "text": [
      "100%|███████████████████████████████████████████████████████████████████████████████| 500/500 [00:04<00:00, 100.66it/s]"
     ]
    },
    {
     "name": "stdout",
     "output_type": "stream",
     "text": [
      "Mean Reward per Time Step = 2.386\n",
      "Optimal Arm Selected = 0.396\n",
      "Average Number of Trials Per Run = 336.164\n",
      "Arm Percentages = [0.112 0.099 0.154 0.396 0.238]\n"
     ]
    },
    {
     "name": "stderr",
     "output_type": "stream",
     "text": [
      "\n"
     ]
    }
   ],
   "source": [
    "epsilon_greedy_result = run_multiple_tests(EpsilonGreedySelectionTester(ARM_ORDER, MULTIPLIER, epsilon = 0.4 ) )"
   ]
  },
  {
   "cell_type": "markdown",
   "metadata": {},
   "source": [
    "Now we start implementing some advanced baselines."
   ]
  },
  {
   "cell_type": "markdown",
   "metadata": {},
   "source": [
    "### The Upper Confidence Bound (UCB) Exploring Strategy"
   ]
  },
  {
   "cell_type": "code",
   "execution_count": 13,
   "metadata": {},
   "outputs": [],
   "source": [
    "class UCBArm( BanditArm ):\n",
    "\n",
    "    def __init__( self, q, **kwargs ):    \n",
    "        \"\"\" initialize the UCB arm \"\"\"                  \n",
    "        \n",
    "        # store the confidence level controlling exploration -- corresponding to hyperparameter c in the slides\n",
    "        self.c = kwargs.pop('confidence_level', 2.0)       \n",
    "                \n",
    "        # pass the true reward value to the base class  \n",
    "        super().__init__(q)           \n",
    "        \n",
    "    def uncertainty(self, t): \n",
    "        \"\"\" calculate the uncertainty in the estimate of this arm's mean \"\"\"\n",
    "        \n",
    " \n",
    "        return self.c * (np.sqrt(np.log(t) / self.n))         \n",
    "        \n",
    "    def sample(self,t):\n",
    "        \"\"\" the UCB reward is the estimate of the mean reward plus its uncertainty \"\"\"\n",
    "        return self.Q + self.uncertainty(t) "
   ]
  },
  {
   "cell_type": "markdown",
   "metadata": {},
   "source": [
    "### The Thompson Sampling Exploring Strategy\n",
    "\n",
    "Here we need to assume the reward distribution is Gaussian, which is correct in our experiment setting. "
   ]
  },
  {
   "cell_type": "code",
   "execution_count": 14,
   "metadata": {},
   "outputs": [],
   "source": [
    "class GaussianThompsonArm( BanditArm ):\n",
    "    def __init__(self, q):                \n",
    "                \n",
    "        self.τ_0 = 0.0001  # the posterior precision\n",
    "        self.μ_0 = 1       # the posterior mean\n",
    "        \n",
    "        # pass the true reward value to the base class             \n",
    "        super().__init__(q)         \n",
    "        \n",
    "    def sample(self,t):\n",
    "        \"\"\" return a value from the the posterior normal distribution \"\"\"\n",
    "        return (np.random.randn() / np.sqrt(self.τ_0)) + self.μ_0    \n",
    "                    \n",
    "    def update(self,R):\n",
    "        \"\"\" update this arm after it has returned reward value 'R' \"\"\"   \n",
    "\n",
    "        # do a standard update of the estimated mean\n",
    "        super().update(R)    \n",
    "               \n",
    "        # update the mean and precision of the posterior\n",
    "        self.μ_0 = ((self.τ_0 * self.μ_0) + (self.n * self.Q))/(self.τ_0 + self.n)        \n",
    "        self.τ_0 += 1       "
   ]
  },
  {
   "cell_type": "markdown",
   "metadata": {},
   "source": [
    "### Let's test the new methods. For UCB, we can try to tune confidence level c"
   ]
  },
  {
   "cell_type": "code",
   "execution_count": 15,
   "metadata": {},
   "outputs": [
    {
     "name": "stderr",
     "output_type": "stream",
     "text": [
      "  0%|                                                                                          | 0/500 [00:00<?, ?it/s]C:\\Users\\thaihung\\.conda\\envs\\test_env\\lib\\site-packages\\ipykernel_launcher.py:16: RuntimeWarning: invalid value encountered in double_scalars\n",
      "  app.launch_new_instance()\n",
      "C:\\Users\\thaihung\\.conda\\envs\\test_env\\lib\\site-packages\\ipykernel_launcher.py:16: RuntimeWarning: divide by zero encountered in double_scalars\n",
      "  app.launch_new_instance()\n",
      "  1%|█▏                                                                                | 7/500 [00:00<00:07, 64.16it/s]"
     ]
    },
    {
     "name": "stdout",
     "output_type": "stream",
     "text": [
      "---STATISTICS For UCB (c=0.0)--\n"
     ]
    },
    {
     "name": "stderr",
     "output_type": "stream",
     "text": [
      "100%|████████████████████████████████████████████████████████████████████████████████| 500/500 [00:11<00:00, 42.45it/s]\n",
      "  1%|▉                                                                                 | 6/500 [00:00<00:11, 41.87it/s]"
     ]
    },
    {
     "name": "stdout",
     "output_type": "stream",
     "text": [
      "Mean Reward per Time Step = 2.213\n",
      "Optimal Arm Selected = 0.000\n",
      "Average Number of Trials Per Run = 362.284\n",
      "Arm Percentages = [1.000 0.000 0.000 0.000 0.000]\n",
      "---STATISTICS For UCB (c=0.2)--\n"
     ]
    },
    {
     "name": "stderr",
     "output_type": "stream",
     "text": [
      "100%|████████████████████████████████████████████████████████████████████████████████| 500/500 [00:08<00:00, 60.29it/s]\n",
      "  1%|▉                                                                                 | 6/500 [00:00<00:08, 54.89it/s]"
     ]
    },
    {
     "name": "stdout",
     "output_type": "stream",
     "text": [
      "Mean Reward per Time Step = 2.413\n",
      "Optimal Arm Selected = 0.451\n",
      "Average Number of Trials Per Run = 332.876\n",
      "Arm Percentages = [0.080 0.050 0.151 0.451 0.268]\n",
      "---STATISTICS For UCB (c=0.4)--\n"
     ]
    },
    {
     "name": "stderr",
     "output_type": "stream",
     "text": [
      "100%|████████████████████████████████████████████████████████████████████████████████| 500/500 [00:09<00:00, 55.37it/s]\n",
      "  2%|█▎                                                                                | 8/500 [00:00<00:06, 78.02it/s]"
     ]
    },
    {
     "name": "stdout",
     "output_type": "stream",
     "text": [
      "Mean Reward per Time Step = 2.429\n",
      "Optimal Arm Selected = 0.487\n",
      "Average Number of Trials Per Run = 330.420\n",
      "Arm Percentages = [0.062 0.032 0.158 0.487 0.262]\n",
      "---STATISTICS For UCB (c=0.6)--\n"
     ]
    },
    {
     "name": "stderr",
     "output_type": "stream",
     "text": [
      "100%|████████████████████████████████████████████████████████████████████████████████| 500/500 [00:08<00:00, 55.79it/s]"
     ]
    },
    {
     "name": "stdout",
     "output_type": "stream",
     "text": [
      "Mean Reward per Time Step = 2.430\n",
      "Optimal Arm Selected = 0.515\n",
      "Average Number of Trials Per Run = 330.180\n",
      "Arm Percentages = [0.058 0.037 0.117 0.515 0.274]\n"
     ]
    },
    {
     "name": "stderr",
     "output_type": "stream",
     "text": [
      "\n"
     ]
    }
   ],
   "source": [
    "# UCB\n",
    "for c in [0.0,0.2,0.4,0.6]:\n",
    "    print(f\"---STATISTICS For UCB (c={c})--\")\n",
    "    run_multiple_tests( ArmTester(ARM_ORDER, UCBArm, MULTIPLIER, confidence_level = c ))\n"
   ]
  },
  {
   "cell_type": "code",
   "execution_count": 16,
   "metadata": {},
   "outputs": [
    {
     "name": "stderr",
     "output_type": "stream",
     "text": [
      "  0%|                                                                                          | 0/500 [00:00<?, ?it/s]C:\\Users\\thaihung\\.conda\\envs\\test_env\\lib\\site-packages\\ipykernel_launcher.py:16: RuntimeWarning: invalid value encountered in double_scalars\n",
      "  app.launch_new_instance()\n",
      "C:\\Users\\thaihung\\.conda\\envs\\test_env\\lib\\site-packages\\ipykernel_launcher.py:16: RuntimeWarning: divide by zero encountered in double_scalars\n",
      "  app.launch_new_instance()\n",
      "100%|████████████████████████████████████████████████████████████████████████████████| 500/500 [00:08<00:00, 56.85it/s]"
     ]
    },
    {
     "name": "stdout",
     "output_type": "stream",
     "text": [
      "Mean Reward per Time Step = 2.422\n",
      "Optimal Arm Selected = 0.491\n",
      "Average Number of Trials Per Run = 331.346\n",
      "Arm Percentages = [0.073 0.044 0.136 0.491 0.256]\n"
     ]
    },
    {
     "name": "stderr",
     "output_type": "stream",
     "text": [
      "\n"
     ]
    }
   ],
   "source": [
    "ucb_result = run_multiple_tests( ArmTester(ARM_ORDER, UCBArm, MULTIPLIER, confidence_level = 0.6 ))"
   ]
  },
  {
   "cell_type": "code",
   "execution_count": 17,
   "metadata": {},
   "outputs": [
    {
     "name": "stderr",
     "output_type": "stream",
     "text": [
      "  2%|█▍                                                                                | 9/500 [00:00<00:07, 69.55it/s]"
     ]
    },
    {
     "name": "stdout",
     "output_type": "stream",
     "text": [
      "---STATISTICS For Thompson Sampling--\n"
     ]
    },
    {
     "name": "stderr",
     "output_type": "stream",
     "text": [
      "100%|████████████████████████████████████████████████████████████████████████████████| 500/500 [00:07<00:00, 66.45it/s]"
     ]
    },
    {
     "name": "stdout",
     "output_type": "stream",
     "text": [
      "Mean Reward per Time Step = 2.511\n",
      "Optimal Arm Selected = 0.991\n",
      "Average Number of Trials Per Run = 319.374\n",
      "Arm Percentages = [0.000 0.001 0.001 0.991 0.007]\n"
     ]
    },
    {
     "name": "stderr",
     "output_type": "stream",
     "text": [
      "\n"
     ]
    }
   ],
   "source": [
    "# Thompson Sampling\n",
    "print(f\"---STATISTICS For Thompson Sampling--\")\n",
    "thompson_sampling_result = run_multiple_tests( ArmTester(ARM_ORDER, GaussianThompsonArm, MULTIPLIER ))"
   ]
  },
  {
   "cell_type": "markdown",
   "metadata": {},
   "source": [
    "As we can see, UCB and Thompson Sampling can easily determine the optimal arm. Reducing MULTIPLER will make the problem harder. "
   ]
  },
  {
   "cell_type": "markdown",
   "metadata": {},
   "source": [
    "### Result Summary"
   ]
  },
  {
   "cell_type": "code",
   "execution_count": 18,
   "metadata": {},
   "outputs": [
    {
     "data": {
      "text/plain": [
       "Text(0, 0.5, 'Mean Total Reward')"
      ]
     },
     "execution_count": 18,
     "metadata": {},
     "output_type": "execute_result"
    },
    {
     "data": {
      "image/png": "[encoded data removed]",
      "text/plain": [
       "<Figure size 720x576 with 1 Axes>"
      ]
     },
     "metadata": {
      "needs_background": "light"
     },
     "output_type": "display_data"
    }
   ],
   "source": [
    "test_names = ['Greedy','Epsilon Greedy','UCB','Thompson Sampling']\n",
    "\n",
    "plt.figure(figsize=(10,8))\n",
    "plt.yticks(np.arange(0., 4200, 600))\n",
    "rewards = [greedy_result, epsilon_greedy_result, ucb_result, thompson_sampling_result]\n",
    "for test in range(len(rewards)):\n",
    "    plt.plot(rewards[test], label = f'{test_names[test]}')\n",
    "    \n",
    "plt.legend()    \n",
    "plt.title('Mean Total Reward vs Time', fontsize=15)\n",
    "plt.xlabel('Time Step')\n",
    "plt.ylabel('Mean Total Reward')"
   ]
  },
  {
   "cell_type": "code",
   "execution_count": null,
   "metadata": {},
   "outputs": [],
   "source": []
  }
 ],
 "metadata": {
  "kernelspec": {
   "display_name": "test_env",
   "language": "python",
   "name": "test_env"
  },
  "language_info": {
   "codemirror_mode": {
    "name": "ipython",
    "version": 3
   },
   "file_extension": ".py",
   "mimetype": "text/x-python",
   "name": "python",
   "nbconvert_exporter": "python",
   "pygments_lexer": "ipython3",
   "version": "3.6.10"
  }
 },
 "nbformat": 4,
 "nbformat_minor": 2
}
